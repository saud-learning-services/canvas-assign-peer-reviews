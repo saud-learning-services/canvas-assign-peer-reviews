{
 "cells": [
  {
   "cell_type": "markdown",
   "id": "6b4c374c",
   "metadata": {},
   "source": [
    "# Assign Peer Reviews\n",
    "\n",
    "To Run: Select Kernel -> Restart and Run All, follow the prompts.\n",
    "\n",
    "You will need\n",
    "1. To have created a .env file (see README.md)\n",
    "1. A course id\n",
    "1. The assignment id of the assignment with the original peer reviews \n",
    "1. The assignment id of the assignment with the new peer reviews\n",
    "\n",
    "⚠️ You will be prompted to auto-submit for the assignment where peer reviews will be created. This will overwrite any existing submissions. The assumption is that there are no submissions in the second assignment and you should run the auto submit step.  \n",
    "\n",
    "⚠️ Creating the new peer reviews in the second assignment will remove any existing assigned peer reviews."
   ]
  },
  {
   "cell_type": "code",
   "execution_count": null,
   "id": "0084a94f",
   "metadata": {},
   "outputs": [],
   "source": [
    "import os\n",
    "import sys\n",
    "module_path = os.path.abspath(os.path.join('src/'))\n",
    "if module_path not in sys.path:\n",
    "    sys.path.append(module_path)   \n",
    "    \n",
    "from assign_peer_reviews import main\n",
    "main()"
   ]
  }
 ],
 "metadata": {
  "kernelspec": {
   "display_name": "Python 3 (ipykernel)",
   "language": "python",
   "name": "python3"
  },
  "language_info": {
   "codemirror_mode": {
    "name": "ipython",
    "version": 3
   },
   "file_extension": ".py",
   "mimetype": "text/x-python",
   "name": "python",
   "nbconvert_exporter": "python",
   "pygments_lexer": "ipython3",
   "version": "3.10.8"
  }
 },
 "nbformat": 4,
 "nbformat_minor": 5
}
